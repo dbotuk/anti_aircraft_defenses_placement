{
 "cells": [
  {
   "cell_type": "markdown",
   "id": "9c6c549a",
   "metadata": {},
   "source": [
    "# Map Grid Visualization\n",
    "## Completed by:\n",
    "* Denys Botuk"
   ]
  },
  {
   "cell_type": "code",
   "execution_count": 1,
   "id": "82ad8e98",
   "metadata": {},
   "outputs": [],
   "source": [
    "import colorsys\n",
    "import folium\n",
    "import geopandas as gpd\n",
    "import ipynb.fs.full.ProjectAPI as api\n",
    "import json\n",
    "import numpy as np\n",
    "\n",
    "from geopy.distance import geodesic"
   ]
  },
  {
   "cell_type": "markdown",
   "id": "f9c149e8",
   "metadata": {},
   "source": [
    "To solve the problem in a heuristic way to reduce the calculation time, I decided to observe this problem as discrete optimization problem.\n",
    "\n",
    "The main idea is to separate the territory of Ukraine into the grid of equal square cells with placement of system in the cell center and rate each cell based on the specific characteristics according to the strategy, which we are testing at.\n",
    "\n",
    "To make the problem more realistic, we will consider only the unoccupied territory of Ukraine. For this, we will use the following geojson and read it using geopanas library."
   ]
  },
  {
   "cell_type": "code",
   "execution_count": 2,
   "id": "1c5c0934",
   "metadata": {},
   "outputs": [],
   "source": [
    "path_to_file = \"map_with_war.geojson\"\n",
    "ukraine = gpd.read_file(path_to_file)"
   ]
  },
  {
   "cell_type": "markdown",
   "id": "45404b89",
   "metadata": {},
   "source": [
    "As it is decided to test 3 strategies, which are based on the 'critical target rate' and 'flight rate', it would be useful to create a class object 'CriticalTarget' to agregate the data about potential critical target in one object.\n",
    "\n",
    "So, this object will contains the information about its placement (latitude and longitude), target type ('stations', 'military_objects', 'military_cities') and its critical rate. "
   ]
  },
  {
   "cell_type": "code",
   "execution_count": 3,
   "id": "13f426ba",
   "metadata": {},
   "outputs": [],
   "source": [
    "class CriticalTarget:\n",
    "    def __init__(self, target_type, latitude, longitude, critical_rate):\n",
    "        self.target_type = target_type\n",
    "        self.latitude = latitude\n",
    "        self.longitude = longitude\n",
    "        self.critical_rate = critical_rate"
   ]
  },
  {
   "cell_type": "markdown",
   "id": "5eb3597a",
   "metadata": {},
   "source": [
    "It's reasonable to create object 'MapCell', which will contain the whole impotant information about the cell of map grid, which we will use during optimization:\n",
    "* center latitude *(y coordinate of the center)*\n",
    "* center longitude *(x coordinate of the center)*\n",
    "* top latitude *(y coordinate of the top side)*\n",
    "* bottom latitude *(y coordinate of the bottom side)*\n",
    "* left longitude *(x coordinate of the left side)*\n",
    "* right longitude *(x coordinate of the right side)*\n",
    "* critical rate *(critical rate of cell, calculated according to the selected strategy)*\n",
    "* flight rate *(percent of the air target routes, which pass through the cell, in respect to the whole number of routes)*\n",
    "* critical targets rate *(percent of the critical rate sum of the critical target, that lies within the cell, with respect to the total critical rate of Ukraine)*\n",
    "* strategy *(way how we calculate critical rate)*\n",
    "* ppo *(air defense system, which is deployed inside the cell)*"
   ]
  },
  {
   "cell_type": "code",
   "execution_count": 4,
   "id": "55449c15",
   "metadata": {},
   "outputs": [],
   "source": [
    "class MapCell:\n",
    "    def __init__(self, center_latitude, center_longitude, top_latitude, bottom_latitude, left_longitude, right_longitude, strategy, ppo):\n",
    "        self.center_latitude = center_latitude\n",
    "        self.center_longitude = center_longitude\n",
    "        self.top_latitude = top_latitude\n",
    "        self.bottom_latitude = bottom_latitude\n",
    "        self.left_longitude = left_longitude\n",
    "        self.right_longitude = right_longitude\n",
    "        self.critical_rate = 0\n",
    "        self.flight_rate = 0\n",
    "        self.critical_targets_rate = 0\n",
    "        self.strategy = strategy\n",
    "        self.ppo = ppo\n",
    "    \n",
    "    def contains(self, latitude, longitude):\n",
    "        '''checks if cell contains the object with coordinates \"latitude\" and \"longitude\"'''\n",
    "        return self.bottom_latitude < latitude < self.top_latitude and self.left_longitude < longitude < self.right_longitude\n",
    "    \n",
    "    def calculate_critical_rate(self, flight_data, critical_targets):\n",
    "        '''calculates critical rate of the cell according to the selected strategy'''\n",
    "        # calculates critical target rate, based on the critical targets, which lie within the cell\n",
    "        self.calculate_critical_targets_rate(critical_targets)\n",
    "        \n",
    "        # calculates, how much air targets passed through the cell in the simulated data set\n",
    "        self.calculate_flight_prob(flight_data)\n",
    "        \n",
    "        # calculate critical rate for 'critical' strategy\n",
    "        if self.strategy == 'critical':\n",
    "            self.critical_rate = self.critical_targets_rate\n",
    "            \n",
    "        # calculate critical rate for 'route' strategy\n",
    "        elif self.strategy == 'route': \n",
    "            self.critical_rate = self.flight_rate\n",
    "            \n",
    "        # calculate critical rate for 'combination' strategy\n",
    "        elif self.strategy == 'combination':\n",
    "            self.critical_rate = self.critical_targets_rate + self.flight_rate\n",
    "        \n",
    "    def calculate_critical_targets_rate(self, critical_targets):\n",
    "        '''calculates the percentage of critical target rate with respect to the total rate within Ukraine'''\n",
    "        total_rate = sum(target.critical_rate for target in critical_targets)\n",
    "        self.critical_targets_rate = sum(target.critical_rate for target in critical_targets if self.contains(target.latitude, target.longitude)) / total_rate * 100\n",
    "    \n",
    "    def calculate_flight_prob(self, flight_data):\n",
    "        '''calculates the percentage of air targets passing through the cell'''\n",
    "        flight_count = 0\n",
    "        for air_target in flight_data:\n",
    "            for position in flight_data[air_target]:\n",
    "                if self.contains(position[0], position[1]):\n",
    "                    flight_count += 1\n",
    "                    break\n",
    "        self.flight_rate = flight_count / len(flight_data) * 100\n",
    "    \n",
    "    def __str__(self):\n",
    "        return \"radius=\" + str(self.radius) \\\n",
    "                + \"\\ncenter_longitude=\" + str(self.center_longitude) \\\n",
    "                + \"\\ncenter_latitude=\" + str(self.center_latitude) \\\n",
    "                + \"\\ntop_latitude=\" + str(self.top_latitude) \\\n",
    "                + \"\\nbottom_latitude=\" + str(self.bottom_latitude) \\\n",
    "                + \"\\nleft_longitude=\" + str(self.left_longitude) \\\n",
    "                + \"\\nright_longitude=\" + str(self.right_longitude) \\\n",
    "                + \"\\ncritical_rate=\" + str(self.critical_rate) \\\n",
    "                + \"\\nflight_rate=\" + str(self.flight_rate) \\\n",
    "                + \"\\ncritical_targets_rate=\" + str(self.critical_targets_rate)"
   ]
  },
  {
   "cell_type": "markdown",
   "id": "0c0f922a",
   "metadata": {},
   "source": [
    "To make grid more informative we need to fill each cell with appropriate color from the spectrum:"
   ]
  },
  {
   "cell_type": "code",
   "execution_count": 5,
   "id": "b2b7152b",
   "metadata": {},
   "outputs": [],
   "source": [
    "def spectrum(n : int):\n",
    "    '''makes the spectrum of colors between yellow and red based on the count of colors'''\n",
    "    hsv = [(h, 1, 1) for h in np.linspace(0, 50/360, n + 1)]\n",
    "    rgb = [colorsys.hsv_to_rgb(*tup) for tup in hsv]\n",
    "    defloat = lambda x: tuple((int(255 * i) for i in x))\n",
    "    colors = [defloat(x) for x in rgb]\n",
    "    colors.reverse()\n",
    "    return colors\n",
    "\n",
    "def rgb_to_hex(color):\n",
    "    '''combines rgb color into hex'''\n",
    "    r, g, b = color\n",
    "    return '#{:02x}{:02x}{:02x}'.format(r, g, b)\n",
    "\n",
    "def map_to_color(colors, index):\n",
    "    '''selects the color'''\n",
    "    return rgb_to_hex(colors[index])"
   ]
  },
  {
   "cell_type": "markdown",
   "id": "05179194",
   "metadata": {},
   "source": [
    "We will visualize the grid on the map, where cells are colored from yellow to red color according to its critical rate, the most red cell indicates the most critical cell, the most yellow - the least critical rate."
   ]
  },
  {
   "cell_type": "code",
   "execution_count": 6,
   "id": "6ad110bc",
   "metadata": {},
   "outputs": [],
   "source": [
    "def form_tooltip(critical_rate, flight_rate, critical_targets_rate):\n",
    "    '''forms the tooltip with critical rate information about cell'''\n",
    "    return \"critical_rate=\" + str(critical_rate) + \"\\nflight_rate=\" + str(flight_rate) + \"\\ncritical_targets_rate=\" + str(critical_targets_rate)\n",
    "\n",
    "def grid_visualisation(grid, strategy):\n",
    "    '''makes html with the map, which contains the grid with colored cells'''\n",
    "    # initialize the map\n",
    "    m = folium.Map(location = [49.0139, 31.2858], zoom_start = 5.5)\n",
    "    \n",
    "    # calculate the maximum rate\n",
    "    max_rate = int(max(map(lambda cell: cell.critical_rate if cell else 0, grid)) * 100)\n",
    "    \n",
    "    # get the colors spectrum\n",
    "    colors = spectrum(int(max_rate))\n",
    "    \n",
    "    for cell in grid:\n",
    "        if cell:\n",
    "            folium.Rectangle(\n",
    "                             [\n",
    "                                (cell.bottom_latitude, cell.left_longitude),  # coordinates of the left bottom edge of the cell\n",
    "                                (cell.top_latitude, cell.right_longitude) # coordinates of the right top edge of the cell\n",
    "                             ], \n",
    "                             color=None,\n",
    "                             fill=True, \n",
    "                             fill_color=map_to_color(colors, int(cell.critical_rate * 100)), \n",
    "                             fill_opacity=0.25,\n",
    "                             tooltip=form_tooltip(cell.critical_rate, cell.flight_rate, cell.critical_targets_rate)\n",
    "                            ).add_to(m)\n",
    "        \n",
    "    m.save(f\"{strategy}/grid_map.html\")"
   ]
  },
  {
   "cell_type": "markdown",
   "id": "19d8ea08",
   "metadata": {},
   "source": [
    "Next function creates the grid within Ukraine territory with side of specific size (in km).\n",
    "\n",
    "If the center of the cell is not within Ukraine, the cell is set to None value (it will be useful, when we calculate critical rate for neighbor cells, such approach will allow us to make rectangle grid)"
   ]
  },
  {
   "cell_type": "code",
   "execution_count": 7,
   "id": "d403a82f",
   "metadata": {},
   "outputs": [],
   "source": [
    "def makeGrid(km_shift, strategy):\n",
    "    # retrives maximum and minimum x- and y-coordinates of Ukraine's border\n",
    "    minx, miny, maxx, maxy = ukraine.bounds.iloc[0]\n",
    "    map_cells = list()\n",
    "    \n",
    "    # start making grid from the left bottom point\n",
    "    old_latitude = miny\n",
    "    new_latitude = miny\n",
    "    i = 0\n",
    "    while new_latitude < maxy:\n",
    "        # calculate latitude coordinate to the right from the previous cell with respect to specific value of km\n",
    "        new_latitude = geodesic(kilometers=km_shift).destination((old_latitude, 0), 0).latitude\n",
    "        \n",
    "        old_longitude = minx\n",
    "        new_longitude = minx\n",
    "        j = 0\n",
    "        while new_longitude < maxx:\n",
    "            # calculate latitude coordinate to the top from the previous cell with respect to specific value of km\n",
    "            new_longitude = geodesic(kilometers=km_shift).destination((0, old_longitude), 90).longitude\n",
    "            \n",
    "            # calculate coordinates of the cell's center\n",
    "            center_latitude = geodesic(kilometers=km_shift / 2).destination((old_latitude, 0), 0).latitude\n",
    "            center_longitude = geodesic(kilometers=km_shift / 2).destination((0, old_longitude), 90).longitude\n",
    "            \n",
    "            # checks if the cell's center is inside Ukraine, if not - set cell to None\n",
    "            if api.is_inside_ukraine((center_latitude, center_longitude)):\n",
    "                cell = MapCell(center_latitude, center_longitude, new_latitude, old_latitude, old_longitude, new_longitude, strategy, None)\n",
    "                map_cells.append(cell)\n",
    "            else:\n",
    "                map_cells.append(None)\n",
    "            \n",
    "            old_longitude = new_longitude\n",
    "            j += 1\n",
    "        \n",
    "        old_latitude = new_latitude\n",
    "        i += 1\n",
    "        \n",
    "    \n",
    "    return np.array(map_cells), (i, j)"
   ]
  },
  {
   "cell_type": "markdown",
   "id": "a57e4ebb",
   "metadata": {},
   "source": [
    "The following function takes the information about critical targets in the following way:\n",
    "\n",
    "target_type: [\n",
    "\n",
    "    {\n",
    "        \"latitude\": ...,\n",
    "        \"longitude\": ...,\n",
    "        \"critical_rate\": ...\n",
    "    },\n",
    "    ...\n",
    "    \n",
    "]"
   ]
  },
  {
   "cell_type": "code",
   "execution_count": 8,
   "id": "33892573",
   "metadata": {},
   "outputs": [],
   "source": [
    "def end_points():\n",
    "    '''retrieves information about critical targets'''\n",
    "    with open('labeled_targets.json', 'r') as json_file:\n",
    "        data = json.load(json_file)\n",
    "    return data"
   ]
  },
  {
   "cell_type": "markdown",
   "id": "bda7c54e",
   "metadata": {},
   "source": [
    "The following function retrieves data about air target flight in the following form, which contains its coordinates in each period of time:\n",
    "\n",
    "target type: [\n",
    "\n",
    "    [\n",
    "        latitude coordinate,\n",
    "        longitude coordinate\n",
    "    ],\n",
    "    ...\n",
    "]"
   ]
  },
  {
   "cell_type": "code",
   "execution_count": 9,
   "id": "26f4e80b",
   "metadata": {},
   "outputs": [],
   "source": [
    "def flight_data():\n",
    "    '''retrieves flight data from the simulated data set'''\n",
    "    with open('simulations.json', 'r') as json_file:\n",
    "        flight_data = json.load(json_file)\n",
    "    return flight_data"
   ]
  }
 ],
 "metadata": {
  "kernelspec": {
   "display_name": "Python 3 (ipykernel)",
   "language": "python",
   "name": "python3"
  },
  "language_info": {
   "codemirror_mode": {
    "name": "ipython",
    "version": 3
   },
   "file_extension": ".py",
   "mimetype": "text/x-python",
   "name": "python",
   "nbconvert_exporter": "python",
   "pygments_lexer": "ipython3",
   "version": "3.11.5"
  }
 },
 "nbformat": 4,
 "nbformat_minor": 5
}
