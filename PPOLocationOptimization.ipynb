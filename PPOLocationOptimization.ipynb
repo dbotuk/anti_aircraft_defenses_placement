{
 "cells": [
  {
   "cell_type": "markdown",
   "id": "90f0d452",
   "metadata": {},
   "source": [
    "# Heuristic Search using Genetic Algorithm\n",
    "## Completed by:   \n",
    "* Denys Botuk"
   ]
  },
  {
   "cell_type": "markdown",
   "id": "907fed45",
   "metadata": {},
   "source": [
    "The main purporse of this work is to find an optimal air defense system deployment with respect to some specific characteristics of its combinations.\n",
    "\n",
    "Having read some literature and papers I noticed that most of approaches are based on the discrete optimization.\n",
    "\n",
    "The critical issue is to chose algorithm for solving this problem and objective function, based on which we will optimize our solution.\n",
    "\n",
    "I've decided also observe the case of the discrete optimization. My approach is:\n",
    "1. Separate the Ukraine territory into the grid of equal cells.\n",
    "2. Calculate some characteristics per each cell, which will represent the risk of attack on this piece of territory.\n",
    "3. Based on these characteristics find the best air defense deployment that minimizes the risk.\n",
    "\n",
    "As any such characteristics is very sensitive information and we can't have an access to it, then given this, I catched an idea to consider the critical infrastructure objects, which belongs to the territory, represented by the specific cell. Thus, we prepared 'labeled_targets.json' file, which contains the information about the coordinates of objects and its critical value, which represents the \"price\" of its damage. These values are our subjective estimation, so it doesn't pretend to be realistic. We will call this characteristics as 'critical targets rate'.\n",
    "\n",
    "Another charactestics could be the probability that air target would fly through the cell. For this purporse, we will generate a bug number of air attack simulations, and based on that data count such value per each cell.\n",
    "\n",
    "So, solving of such type of the problem requires a bug amount of calculations per each cell. So, the performance time will depend on the number of cells.\n",
    "\n",
    "Based on such idea, the first and obvious solution is to check all possible combinations and calculate possible risk rates for each case, but it would be very time consuming, and very depending on the grid size.\n",
    "\n",
    "After reasearch of different types of scientific papers, I've made a decision to choose genetic algorithm for solving such problem. It's a good one for work on a large scale problems due to its flexibility, ability to work with complex, non-linear and multidimensional search spaces. It effectively works with combinatorial problems. \n",
    "\n",
    "The main idea behind this method is we start with various solutions, let the best ones 'survive', mix them to create new solutions, and iterate this process to evolve towards the best possible solution. This method is described in more details in the **GeneticOptimizer.ipynb** file, where the functionality of this algorithm is implemented and described."
   ]
  },
  {
   "cell_type": "code",
   "execution_count": 1,
   "id": "beb04305",
   "metadata": {},
   "outputs": [],
   "source": [
    "import ipynb.fs.full.GeneticOptimizer as optimizer\n",
    "import ipynb.fs.full.GridVisualizer as visualizer\n",
    "import ipynb.fs.full.ProjectAPI as api\n",
    "import json\n",
    "import numpy as np\n",
    "import seaborn as sns\n",
    "import tqdm\n",
    "import warnings\n",
    "\n",
    "from copy import deepcopy\n",
    "from matplotlib import pyplot as plt\n",
    "from numpy.random import randint\n",
    "from numpy.random import rand\n",
    "from ipynb.fs.full.GridVisualizer import CriticalTarget\n",
    "\n",
    "warnings.simplefilter(action='ignore', category=FutureWarning)"
   ]
  },
  {
   "cell_type": "markdown",
   "id": "edd749c7",
   "metadata": {},
   "source": [
    "So, first of all we need to identify the objective function. As I mentioned previously, I propose to calculate it based on the some values per each cell of the map grid."
   ]
  },
  {
   "cell_type": "markdown",
   "id": "bd057a82",
   "metadata": {},
   "source": [
    "Now, let's define some functions, which will be useful for us on the further steps.\n",
    "\n",
    "The next function checks if the specific air defense system, deployed at some place, covers a specific cell. As we have a grid of cells, but destruction range of the system is a circle, then we will consider that system covers the cell, if it covers each edge of this cell."
   ]
  },
  {
   "cell_type": "code",
   "execution_count": 2,
   "id": "ba722b34",
   "metadata": {},
   "outputs": [],
   "source": [
    "def covers_cell(ppo, cell):\n",
    "    return ppo.is_in_destruction_range(cell.top_latitude, cell.left_longitude) & \\\n",
    "           ppo.is_in_destruction_range(cell.bottom_latitude, cell.left_longitude) & \\\n",
    "           ppo.is_in_destruction_range(cell.top_latitude, cell.right_longitude) & \\\n",
    "           ppo.is_in_destruction_range(cell.bottom_latitude, cell.right_longitude)"
   ]
  },
  {
   "cell_type": "markdown",
   "id": "d3fc2f96",
   "metadata": {},
   "source": [
    "Then, formulate an objective function, which is called 'fitness' in the genetic algorithm and some additional helpful functions.\n",
    "\n",
    "*calculate_critical_rate_around_ppo* function calculates the critical rate per each cell, which is covered by the air defense system by the following rule:\n",
    "$$c_j = c_j \\cdot (1 - p_i)$$\n",
    "where $c_j$ is critical rate of the cell and $p_j$ is the probability of the system to destroy air target.\n",
    "\n",
    "basically, we can calculate it, considering and checking each cell in a grid, but I propose the following approach to optimize the time execution of it, which actually is natural: given the cell, where system is deployed, for the first circle we check the straight neighbor cells, then neighbor on the diagonal , then if all the cells are covered, we go to the next circle of neighbors, until we come across the cell, which is not covered.\n",
    "\n",
    "Such optimization saves $\\sim 1$ minute of time execution for the grid with more than 100 cells. \n",
    "\n",
    "*recalculate_critical_rate* calls *calculate_critical_rate_around_ppo* for each cell, where system is deployed.\n",
    "\n",
    "*fitness* is an objective function, which we will miniize during the optimization. It decodes the intermediate result of the optimization into the systems placement, and calls recalculation functions for the whole grid. After recalculation it calculates the sum of the critical rates per each cell in a grid. This sum will represent the risk, which we will try to minimize. Critical rates will be calculated based on the strategy, we choose.\n",
    "$$\\sum\\limits_j c_j \\cdot (1 - p_i) \\rightarrow \\min_i$$"
   ]
  },
  {
   "cell_type": "code",
   "execution_count": 3,
   "id": "80382827",
   "metadata": {},
   "outputs": [],
   "source": [
    "def calculate_critical_rate_around_ppo(cells, ppo_i, ppo_j, shape):\n",
    "    '''calculates the critical rate per each cell, which is covered by the air defense system'''\n",
    "    radius = 1\n",
    "    \n",
    "    # False if any cell found that is not covered by the system\n",
    "    calc = True\n",
    "    \n",
    "    while calc:\n",
    "        \n",
    "        # check and calculate critical rate for the straight neighbor cells\n",
    "        if ppo_i  >= radius:\n",
    "            if cells[ppo_i - radius][ppo_j]:\n",
    "                if covers_cell(cells[ppo_i][ppo_j].ppo, cells[ppo_i - radius][ppo_j]):\n",
    "                    cells[ppo_i - radius][ppo_j].critical_rate = cells[ppo_i - radius][ppo_j].critical_rate * (1 - cells[ppo_i][ppo_j].ppo.base_destruction_prob)\n",
    "                else:\n",
    "                    calc = False\n",
    "        if ppo_i <= shape[0] - radius - 1:\n",
    "            if cells[ppo_i + radius][ppo_j]:\n",
    "                if covers_cell(cells[ppo_i][ppo_j].ppo, cells[ppo_i + radius][ppo_j]):\n",
    "                    cells[ppo_i + radius][ppo_j].critical_rate = cells[ppo_i + radius][ppo_j].critical_rate * (1 - cells[ppo_i][ppo_j].ppo.base_destruction_prob)\n",
    "                else:\n",
    "                    calc = False\n",
    "        if ppo_j >= radius:\n",
    "            if cells[ppo_i][ppo_j - radius]:\n",
    "                if covers_cell(cells[ppo_i][ppo_j].ppo, cells[ppo_i][ppo_j - radius]):\n",
    "                    cells[ppo_i][ppo_j- radius].critical_rate = cells[ppo_i][ppo_j- radius].critical_rate * (1 - cells[ppo_i][ppo_j].ppo.base_destruction_prob)\n",
    "                else:\n",
    "                    calc = False\n",
    "        if ppo_j <= shape[1] - radius - 1:\n",
    "            if cells[ppo_i][ppo_j + radius]:\n",
    "                if covers_cell(cells[ppo_i][ppo_j].ppo, cells[ppo_i][ppo_j + radius]):\n",
    "                    cells[ppo_i][ppo_j + radius].critical_rate = cells[ppo_i][ppo_j + radius].critical_rate * (1 - cells[ppo_i][ppo_j].ppo.base_destruction_prob)\n",
    "                else:\n",
    "                    calc = False\n",
    "                    \n",
    "        # check and calculate critical rate for the neighbor cells on the diagonal\n",
    "        if calc:\n",
    "            if (ppo_i  >= radius) & (ppo_j  >= radius):\n",
    "                if cells[ppo_i - radius][ppo_j - radius]:\n",
    "                    if covers_cell(cells[ppo_i][ppo_j].ppo, cells[ppo_i - radius][ppo_j - radius]):\n",
    "                        cells[ppo_i - radius][ppo_j - radius].critical_rate = cells[ppo_i - radius][ppo_j - radius].critical_rate * (1 - cells[ppo_i][ppo_j].ppo.base_destruction_prob)\n",
    "            if (ppo_i  >= radius) & (ppo_j <= shape[1] - radius - 1):\n",
    "                if cells[ppo_i - radius][ppo_j + radius]:\n",
    "                    if covers_cell(cells[ppo_i][ppo_j].ppo, cells[ppo_i - radius][ppo_j + radius]):\n",
    "                        cells[ppo_i - radius][ppo_j + radius].critical_rate = cells[ppo_i - radius][ppo_j + radius].critical_rate * (1 - cells[ppo_i][ppo_j].ppo.base_destruction_prob)\n",
    "            if (ppo_i <= shape[0] - radius - 1) & (ppo_j  >= radius):\n",
    "                if cells[ppo_i + radius][ppo_j - radius]:\n",
    "                    if covers_cell(cells[ppo_i][ppo_j].ppo, cells[ppo_i + radius][ppo_j - radius]):\n",
    "                        cells[ppo_i + radius][ppo_j - radius].critical_rate = cells[ppo_i + radius][ppo_j - radius].critical_rate * (1 - cells[ppo_i][ppo_j].ppo.base_destruction_prob)\n",
    "            if (ppo_i <= shape[0] - radius - 1) & (ppo_j <= shape[1] - radius - 1):\n",
    "                if cells[ppo_i + radius][ppo_j + radius]:\n",
    "                    if covers_cell(cells[ppo_i][ppo_j].ppo, cells[ppo_i + radius][ppo_j + radius]):\n",
    "                        cells[ppo_i + radius][ppo_j + radius].critical_rate = cells[ppo_i + radius][ppo_j + radius].critical_rate * (1 - cells[ppo_i][ppo_j].ppo.base_destruction_prob)\n",
    "        radius += 1\n",
    "        \n",
    "\n",
    "def recalculate_critical_rate(cells, shape):\n",
    "    '''calculates the critical rate per each neighbors of the cell, where system is deployed'''\n",
    "    for i in range(len(cells)):\n",
    "        for j in range(len(cells[i])):\n",
    "            if cells[i][j]:\n",
    "                if cells[i][j].ppo:\n",
    "                    # given the cell with deployed system recalculate critical rate for neighbors\n",
    "                    cells[i][j].critical_rate = cells[i][j].critical_rate * (1 - cells[i][j].ppo.base_destruction_prob)\n",
    "                    calculate_critical_rate_around_ppo(cells, i, j, shape)\n",
    "        \n",
    "        \n",
    "def fitness(combination, systems, cells, shape):\n",
    "    '''decodes given combination into the system placement and recalculates critical rates of the grid'''\n",
    "    systems_copy = deepcopy(systems)\n",
    "    grid_copy = deepcopy(cells)\n",
    "    placement_cells = None\n",
    "    for name in systems.keys():\n",
    "        # decodes the combination into systems placement\n",
    "        placement_cells = grid_copy[grid_copy != None][combination == optimizer.get_ppo_index(name)]\n",
    "        ppo = systems_copy[name]\n",
    "        for i in range(len(ppo)):\n",
    "            # set air defense system into the cell\n",
    "            ppo[i].coords = (placement_cells[i].center_latitude, placement_cells[i].center_longitude)\n",
    "            placement_cells[i].ppo = ppo[i]\n",
    "    \n",
    "    # recalculate critical values on the grid\n",
    "    recalculate_critical_rate(grid_copy.reshape(shape), shape)\n",
    "    \n",
    "    # calculate the total risk\n",
    "    return sum(cell.critical_rate for cell in grid_copy if cell)"
   ]
  },
  {
   "cell_type": "markdown",
   "id": "c7d0b094",
   "metadata": {},
   "source": [
    "The following functions will be used for the launching of the optimal system placement after algorithm execution."
   ]
  },
  {
   "cell_type": "code",
   "execution_count": 4,
   "id": "105775ee",
   "metadata": {},
   "outputs": [],
   "source": [
    "def get_positions_for_ppo(name, ppo_positions, cells, strategy):\n",
    "    '''retrieves positions of the defense systems for the specific type'''\n",
    "    return cells[cells != None][ppo_positions == optimizer.get_ppo_index(name)]\n",
    "\n",
    "def launch_anti_air_systems(systems, ppo_positions, cells, strategy):\n",
    "    '''deplot defense system onto the optimal placement and write these coordinates into file'''\n",
    "    systems_json = {}\n",
    "    for ppo in systems.keys():\n",
    "        # get positions of the system for the specific type\n",
    "        ppo_cells = get_positions_for_ppo(ppo, ppo_positions, cells, strategy)\n",
    "        for i in range(len(systems[ppo])):\n",
    "            # set the coordinates into the system\n",
    "            coords = (ppo_cells[i].center_latitude, ppo_cells[i].center_longitude)\n",
    "            systems[ppo][i].coords = coords\n",
    "            systems_json[f\"{ppo}_{i}\"] = coords\n",
    "    with open(f'{strategy}/anti_air_systems.json', 'w') as f:\n",
    "        json.dump(systems_json, f, indent=4)\n",
    "    return systems"
   ]
  },
  {
   "cell_type": "markdown",
   "id": "f5247270",
   "metadata": {},
   "source": [
    "As I mentioned before, I will need a huge amount of simularions for calculation of the flight rate per each cell."
   ]
  },
  {
   "cell_type": "code",
   "execution_count": 5,
   "id": "39bc6679",
   "metadata": {},
   "outputs": [],
   "source": [
    "# api.start_attac(1000, 1000, 1000, 1000, 1000, 1000);\n",
    "# api.visualisation();"
   ]
  },
  {
   "cell_type": "markdown",
   "id": "d161c80b",
   "metadata": {},
   "source": [
    "For calculation 'critical targets rate' we need the data about targets placement and its critical rate. Let's retrieve it:"
   ]
  },
  {
   "cell_type": "code",
   "execution_count": 6,
   "id": "d8bc0955",
   "metadata": {},
   "outputs": [],
   "source": [
    "targets = visualizer.end_points()\n",
    "target_data = list()\n",
    "for key in targets.keys():\n",
    "    for target in targets[key]:\n",
    "        target_data.append(CriticalTarget(key, target['latitude'], target['longitude'], target['critical_rate']))\n",
    "\n",
    "sim_data = visualizer.flight_data()"
   ]
  },
  {
   "cell_type": "markdown",
   "id": "e6759b67",
   "metadata": {},
   "source": [
    "To have measurable results we will train and test on the following set of the defense systems for all of the strategies and cases"
   ]
  },
  {
   "cell_type": "code",
   "execution_count": 7,
   "id": "d7a98b06",
   "metadata": {},
   "outputs": [],
   "source": [
    "ppo_set = { \n",
    "            'S300':1, \n",
    "            'Buk':4, \n",
    "            'StormerHMV':0, \n",
    "            'Hawk':3, \n",
    "            'Spada':0, \n",
    "            'SAMPT':2, \n",
    "            'NASAMS':0, \n",
    "            'Patriot':2, \n",
    "            'IRIST':0, \n",
    "            'Crotale':0 \n",
    "          }"
   ]
  },
  {
   "cell_type": "markdown",
   "id": "c7ac315c",
   "metadata": {},
   "source": [
    "Let's read all of the default characteristics of the systems, prepared earlier by our teammate."
   ]
  },
  {
   "cell_type": "code",
   "execution_count": 8,
   "id": "bca9faa6",
   "metadata": {},
   "outputs": [],
   "source": [
    "systems = {}\n",
    "for name, count in ppo_set.items():\n",
    "    systems[name] = list()\n",
    "    for i in range(count):\n",
    "        systems[name].append(api.PPOSystem(name, (0,0), *api.ppo_characteristics[name]))"
   ]
  },
  {
   "cell_type": "markdown",
   "id": "e57dca0e",
   "metadata": {},
   "source": [
    "As I mentioned before, I will use genetic algorithm for finding optimal placement of the air defense systems.\n",
    "\n",
    "This algorithm depends on some parameters:\n",
    "* crossover rate - probability, if crossover between two parent individuals will be performed or not.\n",
    "* mutation rate - probability, if mutation inside the individual chromosome will be performed or not.\n",
    "* combination length - which actually is the number of cells\n",
    "* population number - number of individuals inside the population\n",
    "* iteration number - number of the iterations, we execute algorithm on the population data\n",
    "\n",
    "Each of this parameters influence the result a lot.\n",
    "During some testing and investigating the results and literature research, I decided to set :\n",
    "* crossover rate = 0.9\n",
    "* mutation rate = $\\frac{1}{combination length}$\n",
    "* combination length = number of the cells (optimal one is the number of the cells, which has the diagonal equal to the smallest diameter of destruction range of the systems, as we consider only strategic systems, so we will test only on those systems, that has destruction range $\\geq 100$ km)\n",
    "* population number = 500 (it will check more possible variants, so the results will be closer to the optimum)\n",
    "* iteration number = 50 (execute the algorithm 50 times to get the best solution, as we can)\n",
    "\n",
    "I decided to check the work of algorithm on the different strategies:\n",
    "* strategy 1: deployment along the most popular routes\n",
    "* strategy 2: deployment along the most valuable targets\n",
    "* strategy 3: combination of 1st and 2nd\n",
    "\n",
    "Each of the strategies we will estimate by two metrics:\n",
    "* accuracy - the percentage of the destructed air targets\n",
    "* total damage - total damage per each targets, reached by air targets\n",
    "\n",
    "Each solution we will test on $50$ simulations and take an average metrices."
   ]
  },
  {
   "cell_type": "markdown",
   "id": "7219cd55",
   "metadata": {},
   "source": [
    "# Strategy 1: Deployment along the most popular routes"
   ]
  },
  {
   "cell_type": "markdown",
   "id": "9aeffc51",
   "metadata": {},
   "source": [
    "Using this strategy, we take into account only the percentage of the air targets, that passed through the cell, given the simulated data. So, objective function will be:\n",
    "$$\\sum\\limits_j f_j \\cdot (1 - p_i) \\rightarrow \\min_i$$\n",
    "where $f_j$ - flight rate and $p_i$ - probability of the system to destroy the air target.\n",
    "\n",
    "So, let's create a grid of cells, and calculate flight rate for each of them."
   ]
  },
  {
   "cell_type": "code",
   "execution_count": 9,
   "id": "f5624633",
   "metadata": {},
   "outputs": [
    {
     "name": "stdout",
     "output_type": "stream",
     "text": [
      "Created grid with 37 cells\n"
     ]
    }
   ],
   "source": [
    "strategy = 'route'\n",
    "grid, grid_shape = visualizer.makeGrid(200 / np.sqrt(2), strategy)\n",
    "for cell in grid:\n",
    "    if cell:\n",
    "        cell.calculate_critical_rate(sim_data, target_data)\n",
    "\n",
    "visualizer.grid_visualisation(grid, strategy)\n",
    "\n",
    "cells_count = len(grid[grid != None])\n",
    "print(f\"Created grid with {cells_count} cells\")"
   ]
  },
  {
   "cell_type": "markdown",
   "id": "07312880",
   "metadata": {},
   "source": [
    "Then let's find an optimal system placement, based on this strategy."
   ]
  },
  {
   "cell_type": "code",
   "execution_count": 10,
   "id": "c822b216",
   "metadata": {},
   "outputs": [
    {
     "name": "stderr",
     "output_type": "stream",
     "text": [
      "100%|███████████████████████████████████████████| 50/50 [07:14<00:00,  8.69s/it]"
     ]
    },
    {
     "name": "stdout",
     "output_type": "stream",
     "text": [
      "f([0 6 2 0 0 4 0 4 0 0 6 0 8 0 4 2 2 0 0 8 0 0 0 0 0 0 2 0 0 0 0 0 0 0 1 0 0]) = 100.259000\n"
     ]
    },
    {
     "name": "stderr",
     "output_type": "stream",
     "text": [
      "\n"
     ]
    }
   ],
   "source": [
    "ppo_names = list(api.ppo_characteristics.keys())\n",
    "# define the total iterations\n",
    "n_iter = 50\n",
    "# bits\n",
    "n_bits = len(grid[grid != None])\n",
    "# define the population size\n",
    "n_pop = 500\n",
    "# crossover rate\n",
    "r_cross = 0.9\n",
    "# mutation rate\n",
    "r_mut = 1.0 / float(n_bits)\n",
    "# ppo count\n",
    "ppo_count = len(systems)\n",
    "# perform the genetic algorithm search\n",
    "route_best, route_score = optimizer.genetic_algorithm(fitness, ppo_set, systems, grid, grid_shape, n_bits, n_iter, n_pop, r_cross, r_mut)\n",
    "print('f(%s) = %f' % (route_best, route_score))"
   ]
  },
  {
   "cell_type": "markdown",
   "id": "e89c7902",
   "metadata": {},
   "source": [
    "Given the solution, let's set the system into the cells."
   ]
  },
  {
   "cell_type": "code",
   "execution_count": 11,
   "id": "588293c6",
   "metadata": {},
   "outputs": [],
   "source": [
    "launch_anti_air_systems(systems, route_best, grid, strategy)\n",
    "api.ppo_visualisation(strategy)"
   ]
  },
  {
   "cell_type": "markdown",
   "id": "395fdcb6",
   "metadata": {},
   "source": [
    "And now, let's calculate metrices for the solution estimation, based on the $50$ simulations of an air attack."
   ]
  },
  {
   "cell_type": "code",
   "execution_count": 12,
   "id": "95d57a10",
   "metadata": {},
   "outputs": [
    {
     "name": "stderr",
     "output_type": "stream",
     "text": [
      "100%|███████████████████████████████████████████| 50/50 [03:25<00:00,  4.12s/it]"
     ]
    },
    {
     "name": "stdout",
     "output_type": "stream",
     "text": [
      "An average accuracy score is: 0.778\n",
      "An average total critical score is: 1310.7\n"
     ]
    },
    {
     "name": "stderr",
     "output_type": "stream",
     "text": [
      "\n"
     ]
    }
   ],
   "source": [
    "route_accuracy_scores = list()\n",
    "route_critical_scores = list()\n",
    "iters = 50\n",
    "for i in tqdm.tqdm(range(iters)):\n",
    "    api.start_attac(100, 25, 25, 25, 25, 25)\n",
    "    accuracy, critical = api.simulate_defence(i, strategy)\n",
    "    route_accuracy_scores.append(accuracy)\n",
    "    route_critical_scores.append(critical)\n",
    "print(f\"An average accuracy score is: {np.mean(route_accuracy_scores)}\")\n",
    "print(f\"An average total critical score is: {np.mean(route_critical_scores)}\")"
   ]
  },
  {
   "cell_type": "markdown",
   "id": "ceb40e19",
   "metadata": {},
   "source": [
    "Now, visualize recieved metrices."
   ]
  },
  {
   "cell_type": "code",
   "execution_count": 13,
   "id": "f69d9057",
   "metadata": {},
   "outputs": [
    {
     "data": {
      "text/plain": [
       "Text(0, 0.5, 'frequency')"
      ]
     },
     "execution_count": 13,
     "metadata": {},
     "output_type": "execute_result"
    },
    {
     "data": {
      "image/png": "[encoded data removed]",
      "text/plain": [
       "<Figure size 1200x400 with 2 Axes>"
      ]
     },
     "metadata": {},
     "output_type": "display_data"
    }
   ],
   "source": [
    "plt.figure(figsize=(12, 4))\n",
    "\n",
    "plt.subplot(1, 2, 1)\n",
    "sns.histplot(route_accuracy_scores)\n",
    "plt.title('An Average Accuracy Score')\n",
    "plt.xlabel('accuracy')\n",
    "plt.ylabel('frequency')\n",
    "\n",
    "plt.subplot(1, 2, 2);\n",
    "sns.histplot(route_critical_scores)\n",
    "plt.title('An Average Total Critical Score')\n",
    "plt.xlabel('total critical')\n",
    "plt.ylabel('frequency')"
   ]
  },
  {
   "cell_type": "markdown",
   "id": "5e7ba318",
   "metadata": {},
   "source": [
    "So, here we can see, that an average accuracy score is: 77.8\\% of destructed air targets, which is pretty good.\n",
    "\n",
    "Range of accuracy using such strategy is 72-83\\%.\n",
    "\n",
    "An average total critical score is: 1310.7 of total damage.\n",
    "\n",
    "Range of damage is 800-2000.\n",
    "\n",
    "Let's switch to another strategy and execute the same steps."
   ]
  },
  {
   "cell_type": "markdown",
   "id": "6cb30f42",
   "metadata": {},
   "source": [
    "# Strategy 2: Deployment along the most valuable targets"
   ]
  },
  {
   "cell_type": "markdown",
   "id": "d1ecf00b",
   "metadata": {},
   "source": [
    "Using this strategy, we take into account only the critical targets rates of the critical targets, which belong to the cell. So, objective function will be:\n",
    "$$\\sum\\limits_j ct_j \\cdot (1 - p_i) \\rightarrow \\min_i$$\n",
    "where $ct_j$ - critical targets rate and $p_i$ - probability of the system to destroy the air target."
   ]
  },
  {
   "cell_type": "code",
   "execution_count": 30,
   "id": "f74a2046",
   "metadata": {},
   "outputs": [
    {
     "name": "stdout",
     "output_type": "stream",
     "text": [
      "Created grid with 37 cells\n"
     ]
    }
   ],
   "source": [
    "strategy = 'critical'\n",
    "grid, grid_shape = visualizer.makeGrid(200 / np.sqrt(2), strategy)\n",
    "for cell in grid:\n",
    "    if cell:\n",
    "        cell.calculate_critical_rate(sim_data, target_data)\n",
    "\n",
    "visualizer.grid_visualisation(grid, strategy)\n",
    "\n",
    "cells_count = len(grid[grid != None])\n",
    "print(f\"Created grid with {cells_count} cells\")"
   ]
  },
  {
   "cell_type": "code",
   "execution_count": 31,
   "id": "09cd2762",
   "metadata": {},
   "outputs": [
    {
     "name": "stderr",
     "output_type": "stream",
     "text": [
      "100%|███████████████████████████████████████████| 50/50 [09:28<00:00, 11.37s/it]"
     ]
    },
    {
     "name": "stdout",
     "output_type": "stream",
     "text": [
      "f([0 0 8 0 1 8 0 0 4 0 0 0 0 2 2 0 0 0 2 4 0 0 0 0 6 0 0 0 0 6 0 0 0 2 0 0 4]) = 35.183796\n"
     ]
    },
    {
     "name": "stderr",
     "output_type": "stream",
     "text": [
      "\n"
     ]
    }
   ],
   "source": [
    "ppo_names = list(api.ppo_characteristics.keys())\n",
    "# define the total iterations\n",
    "n_iter = 50\n",
    "# bits\n",
    "n_bits = len(grid[grid != None])\n",
    "# define the population size\n",
    "n_pop = 500\n",
    "# crossover rate\n",
    "r_cross = 0.9\n",
    "# mutation rate\n",
    "r_mut = 1.0 / float(n_bits)\n",
    "# ppo count\n",
    "ppo_count = len(systems)\n",
    "# perform the genetic algorithm search\n",
    "critical_best, critical_score = optimizer.genetic_algorithm(fitness, ppo_set, systems, grid, grid_shape, n_bits, n_iter, n_pop, r_cross, r_mut)\n",
    "print('f(%s) = %f' % (critical_best, critical_score))"
   ]
  },
  {
   "cell_type": "code",
   "execution_count": 32,
   "id": "42321482",
   "metadata": {},
   "outputs": [],
   "source": [
    "launch_anti_air_systems(systems, critical_best, grid, strategy)\n",
    "api.ppo_visualisation(strategy)"
   ]
  },
  {
   "cell_type": "code",
   "execution_count": 33,
   "id": "a6d07121",
   "metadata": {},
   "outputs": [
    {
     "name": "stderr",
     "output_type": "stream",
     "text": [
      "100%|███████████████████████████████████████████| 50/50 [04:33<00:00,  5.48s/it]"
     ]
    },
    {
     "name": "stdout",
     "output_type": "stream",
     "text": [
      "An average accuracy score is: 0.7663\n",
      "An average total critical score is: 1279.9\n"
     ]
    },
    {
     "name": "stderr",
     "output_type": "stream",
     "text": [
      "\n"
     ]
    }
   ],
   "source": [
    "critical_accuracy_scores = list()\n",
    "critical_critical_scores = list()\n",
    "iters = 50\n",
    "for i in tqdm.tqdm(range(iters)):\n",
    "    api.start_attac(100, 25, 25, 25, 25, 25)\n",
    "    accuracy, critical = api.simulate_defence(i, strategy)\n",
    "    critical_accuracy_scores.append(accuracy)\n",
    "    critical_critical_scores.append(critical)\n",
    "print(f\"An average accuracy score is: {np.mean(critical_accuracy_scores)}\")\n",
    "print(f\"An average total critical score is: {np.mean(critical_critical_scores)}\")"
   ]
  },
  {
   "cell_type": "code",
   "execution_count": 34,
   "id": "789d183f",
   "metadata": {},
   "outputs": [
    {
     "data": {
      "text/plain": [
       "Text(0, 0.5, 'frequency')"
      ]
     },
     "execution_count": 34,
     "metadata": {},
     "output_type": "execute_result"
    },
    {
     "data": {
      "image/png": "[encoded data removed]",
      "text/plain": [
       "<Figure size 1200x400 with 2 Axes>"
      ]
     },
     "metadata": {},
     "output_type": "display_data"
    }
   ],
   "source": [
    "plt.figure(figsize=(12, 4))\n",
    "\n",
    "plt.subplot(1, 2, 1)\n",
    "sns.histplot(critical_accuracy_scores)\n",
    "plt.title('An Average Accuracy Score')\n",
    "plt.xlabel('accuracy')\n",
    "plt.ylabel('frequency')\n",
    "\n",
    "plt.subplot(1, 2, 2);\n",
    "sns.histplot(critical_critical_scores)\n",
    "plt.title('An Average Total Critical Score')\n",
    "plt.xlabel('total critical')\n",
    "plt.ylabel('frequency')"
   ]
  },
  {
   "cell_type": "markdown",
   "id": "401a06c7",
   "metadata": {},
   "source": [
    "So, here we have very similar result:\n",
    "\n",
    "An average accuracy score is: 76.63\\% of destructed air targets.\n",
    "\n",
    "Range of accuracy using such strategy is 68-84\\%.\n",
    "\n",
    "An average total critical score is: 1279.9 of total damage.\n",
    "\n",
    "Range of damage is 600-2100.\n",
    "\n",
    "So, accuracy is a little bit lower than for previous strategy, and total critical score is also a little bit lower. Also, we can notice that the ranges for both matrices are wider than previously.\n",
    "\n",
    "Now, consider the combination of these strategies."
   ]
  },
  {
   "cell_type": "markdown",
   "id": "bbdf7989",
   "metadata": {},
   "source": [
    "# Strategy 3: Combination strategy"
   ]
  },
  {
   "cell_type": "markdown",
   "id": "2e1d6d61",
   "metadata": {},
   "source": [
    "Using this strategy, we take into account both flight rate and critical targets rate. So, objective function will be:\n",
    "$$\\sum\\limits_j (f_j + ct_j) \\cdot (1 - p_i) \\rightarrow \\min_i$$\n",
    "\n",
    "So, let's create a grid of cells, and calculate combined rate for each of them."
   ]
  },
  {
   "cell_type": "code",
   "execution_count": 35,
   "id": "3da48dbb",
   "metadata": {},
   "outputs": [
    {
     "name": "stdout",
     "output_type": "stream",
     "text": [
      "Created grid with 37 cells\n"
     ]
    }
   ],
   "source": [
    "strategy = 'combination'\n",
    "grid, grid_shape = visualizer.makeGrid(200 / np.sqrt(2), strategy)\n",
    "for cell in grid:\n",
    "    if cell:\n",
    "        cell.calculate_critical_rate(sim_data, target_data)\n",
    "\n",
    "visualizer.grid_visualisation(grid, strategy)\n",
    "\n",
    "cells_count = len(grid[grid != None])\n",
    "print(f\"Created grid with {cells_count} cells\")"
   ]
  },
  {
   "cell_type": "code",
   "execution_count": 36,
   "id": "d2683dbd",
   "metadata": {},
   "outputs": [
    {
     "name": "stderr",
     "output_type": "stream",
     "text": [
      "100%|███████████████████████████████████████████| 50/50 [09:28<00:00, 11.38s/it]"
     ]
    },
    {
     "name": "stdout",
     "output_type": "stream",
     "text": [
      "f([0 2 4 0 0 0 8 0 0 0 0 0 0 2 0 0 0 0 0 0 2 4 6 0 0 0 6 0 0 8 0 4 2 0 0 1 0]) = 142.449124\n"
     ]
    },
    {
     "name": "stderr",
     "output_type": "stream",
     "text": [
      "\n"
     ]
    }
   ],
   "source": [
    "ppo_names = list(api.ppo_characteristics.keys())\n",
    "# define the total iterations\n",
    "n_iter = 50\n",
    "# bits\n",
    "n_bits = len(grid[grid != None])\n",
    "# define the population size\n",
    "n_pop = 500\n",
    "# crossover rate\n",
    "r_cross = 0.9\n",
    "# mutation rate\n",
    "r_mut = 1.0 / float(n_bits)\n",
    "# ppo count\n",
    "ppo_count = len(systems)\n",
    "# perform the genetic algorithm search\n",
    "combination_best, combination_score = optimizer.genetic_algorithm(fitness, ppo_set, systems, grid, grid_shape, n_bits, n_iter, n_pop, r_cross, r_mut)\n",
    "print('f(%s) = %f' % (combination_best, combination_score))"
   ]
  },
  {
   "cell_type": "code",
   "execution_count": 37,
   "id": "23b1732f",
   "metadata": {},
   "outputs": [],
   "source": [
    "launch_anti_air_systems(systems, combination_best, grid, strategy)\n",
    "api.ppo_visualisation(strategy)"
   ]
  },
  {
   "cell_type": "code",
   "execution_count": 38,
   "id": "96dc0d4a",
   "metadata": {},
   "outputs": [
    {
     "name": "stderr",
     "output_type": "stream",
     "text": [
      "100%|███████████████████████████████████████████| 50/50 [04:25<00:00,  5.31s/it]"
     ]
    },
    {
     "name": "stdout",
     "output_type": "stream",
     "text": [
      "An average accuracy score is: 0.8346000000000001\n",
      "An average total critical score is: 856.6\n"
     ]
    },
    {
     "name": "stderr",
     "output_type": "stream",
     "text": [
      "\n"
     ]
    }
   ],
   "source": [
    "combination_accuracy_scores = list()\n",
    "combination_critical_scores = list()\n",
    "iters = 50\n",
    "for i in tqdm.tqdm(range(iters)):\n",
    "    api.start_attac(100, 25, 25, 25, 25, 25)\n",
    "    accuracy, critical = api.simulate_defence(i, strategy)\n",
    "    combination_accuracy_scores.append(accuracy)\n",
    "    combination_critical_scores.append(critical)\n",
    "print(f\"An average accuracy score is: {np.mean(combination_accuracy_scores)}\")\n",
    "print(f\"An average total critical score is: {np.mean(combination_critical_scores)}\")"
   ]
  },
  {
   "cell_type": "code",
   "execution_count": 39,
   "id": "e3fab6fb",
   "metadata": {},
   "outputs": [
    {
     "data": {
      "text/plain": [
       "Text(0, 0.5, 'frequency')"
      ]
     },
     "execution_count": 39,
     "metadata": {},
     "output_type": "execute_result"
    },
    {
     "data": {
      "image/png": "[encoded data removed]",
      "text/plain": [
       "<Figure size 1200x400 with 2 Axes>"
      ]
     },
     "metadata": {},
     "output_type": "display_data"
    }
   ],
   "source": [
    "plt.figure(figsize=(12, 4))\n",
    "\n",
    "plt.subplot(1, 2, 1)\n",
    "sns.histplot(combination_accuracy_scores)\n",
    "plt.title('An Average Accuracy Score')\n",
    "plt.xlabel('accuracy')\n",
    "plt.ylabel('frequency')\n",
    "\n",
    "plt.subplot(1, 2, 2);\n",
    "sns.histplot(combination_critical_scores)\n",
    "plt.title('An Average Total Critical Score')\n",
    "plt.xlabel('total critical')\n",
    "plt.ylabel('frequency')"
   ]
  },
  {
   "cell_type": "markdown",
   "id": "c51d595d",
   "metadata": {},
   "source": [
    "So, here we have significantly better results:\n",
    "\n",
    "An average accuracy score is: 83.46\\% of destructed air targets.\n",
    "\n",
    "Range of accuracy using such strategy is 79-89\\%.\n",
    "\n",
    "An average total critical score is: 856.6 of total damage.\n",
    "\n",
    "Range of damage is 400-1200.\n",
    "\n",
    "So, “the best strategy” is the combination of the first and second ones. So, it takes into account both data from simulated routes of the air targets and damage rates of the potential targets. The first one is similar to the second one, but we can notice that the range of the result of the second strategy is wider."
   ]
  },
  {
   "cell_type": "markdown",
   "id": "6fb990cb",
   "metadata": {},
   "source": [
    "Also, we should take into account that this algorithm is heuristic one. So, it produces different solutions each time, but in general these solutions converges approximately into the same range - $\\sim 72-87\\%$.\n",
    "\n",
    "So, this algorithm is a good one to use, but we should consider that it includes a few parameters, in particular, probabilistic, that can have a big impact on the produced results. As well as parameters, the construction of the objective function also influence a lot. As we saw from the result, when we take into account combined risk rate, we get better results, so the more realistic is objective function, the better solutions algorithm will provide.\n",
    "\n",
    "In conclusion, I would stress the following advantages of the genetic algorithm in solving of the discrete optimization problem:\n",
    "* Good at Exploring Complex Search Spaces: can efficiently search through complex and high-dimensional spaces. It is particularly adept at finding good solutions in problems where the landscape is rugged or has many local optima.\n",
    "* Robust and Flexible: does not make many assumptions about the problem being solved, making them robust and applicable to a wide range of problems, including those with nonlinear and complex relationships.\n",
    "* Adaptability: can be adapted to handle multiple objectives, which is common in real-world problems like air defense system deployment where factors like effectiveness, cost, and coverage area might need to be balanced.\n",
    "* Handling Discrete Variables: is particularly suited for discrete optimization problems, making it ideal for scenarios where decisions are categorical.\n",
    "\n",
    "Disadvantages and risks are:\n",
    "* Computationally Intensive: can be computationally expensive, especially as the size of the problem increases. The need to evaluate a large population of solutions over many generations can demand significant computational resources.\n",
    "* Tuning of Parameters: requires careful tuning of parameters such as population size, mutation rate, and crossover rate. The performance of the algorithm can be highly sensitive to these settings, and finding the right balance can be challenging and time-consuming.\n",
    "* No Guarantee of Optimal Solution: GAs can typically find good solutions, but they do not guarantee that the solution is globally optimal. This is a common trait among heuristic algorithms.\n",
    "* Domain Knowledge Required for Fitness Function: Designing an effective fitness function (to evaluate and select the best candidates) often requires deep domain knowledge. In the context of air defense, this means a comprehensive understanding of strategic, operational, and tactical considerations."
   ]
  },
  {
   "cell_type": "markdown",
   "id": "0168c6fc",
   "metadata": {},
   "source": [
    "Improvement steps:\n",
    "if we think, what could be modified to improve the effiency of this approach, I would point out the following:\n",
    "* transformation intp continious optimization, but for this we need also modify the map ranking, it could something like heatmap based on some data\n",
    "* we can investigate the domain and find some more charactestics to optimize the solution by.\n",
    "* do some effective analysis of algorithm's hyperparameters impact and propose the optimal set, based on some metrices and results."
   ]
  }
 ],
 "metadata": {
  "kernelspec": {
   "display_name": "Python 3 (ipykernel)",
   "language": "python",
   "name": "python3"
  },
  "language_info": {
   "codemirror_mode": {
    "name": "ipython",
    "version": 3
   },
   "file_extension": ".py",
   "mimetype": "text/x-python",
   "name": "python",
   "nbconvert_exporter": "python",
   "pygments_lexer": "ipython3",
   "version": "3.11.5"
  }
 },
 "nbformat": 4,
 "nbformat_minor": 5
}
