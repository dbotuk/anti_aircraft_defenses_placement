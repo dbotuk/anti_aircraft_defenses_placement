{
 "cells": [
  {
   "cell_type": "markdown",
   "id": "501e0686",
   "metadata": {},
   "source": [
    "# Genetic Algorithm\n",
    "## Completed by:   \n",
    "* Denys Botuk"
   ]
  },
  {
   "cell_type": "markdown",
   "id": "4a86bf23",
   "metadata": {},
   "source": [
    "As I observed the discrete optimization approach to our problem and the grid of cells could have a large scale, then a good algorithm to get an optimal air defense systems deployment is genetic algorithm due to its heuristic nature, which gives an ability to work with complex problems with huge scale.\n",
    "As we could have a large number of cells, where we would deploy air defense systems, then a number of possible combinations is too huge.\n",
    "Instead of going through all possible combinations, which is very time consuming, we can use this algorithm, which is particularly effective for solving such complex discrete optimization problems, where traditional methods might be inefficient. "
   ]
  },
  {
   "cell_type": "code",
   "execution_count": 1,
   "id": "562b897c",
   "metadata": {},
   "outputs": [],
   "source": [
    "import ipynb.fs.full.ProjectAPI as api\n",
    "import numpy as np\n",
    "import random\n",
    "import tqdm\n",
    "\n",
    "from numpy.random import rand\n",
    "from numpy.random import randint"
   ]
  },
  {
   "cell_type": "markdown",
   "id": "205c5ea1",
   "metadata": {},
   "source": [
    "As we prepared simulations with different types of systems, we also have its characteristics. So, let's get it."
   ]
  },
  {
   "cell_type": "code",
   "execution_count": 2,
   "id": "1e331be1",
   "metadata": {},
   "outputs": [],
   "source": [
    "ppo_names = list(api.ppo_characteristics.keys())"
   ]
  },
  {
   "cell_type": "markdown",
   "id": "40dabcdc",
   "metadata": {},
   "source": [
    "Now, let's take a basic look at the main idea of the algorithm:\n",
    "\n",
    "*Initial Population:* The process begins with a set of individuals, known as the population. Each individual represents a possible solution to the problem and is typically encoded as a string of characters, often binary.\n",
    "\n",
    "*Fitness Function:* Each individual in the population is evaluated using a fitness function. This function determines how close an individual is to the optimal solution of the problem.\n",
    "\n",
    "*Selection:* Individuals are selected for reproduction based on their fitness. Those with higher fitness have a higher chance of being selected. This is akin to the natural selection process where stronger individuals have a better chance of surviving and reproducing.\n",
    "\n",
    "*Crossover (Recombination):* Pairs of individuals are combined to form new offspring. This process involves swapping parts of their genetic information, which in the context of a GA, could mean swapping parts of their string representations.\n",
    "\n",
    "*Mutation:* With a small probability, some parts of the offspring's genetic information are randomly altered. This introduces variability into the population and can help prevent the algorithm from getting stuck in local optima.\n",
    "\n",
    "*Replacement:* The new offspring are then added to the population, and some of the less fit individuals are removed. The population size usually remains constant from one generation to the next.\n",
    "\n",
    "*Termination:* This process of selection, crossover, mutation, and replacement continues for many generations, or until maximum number of generations is met."
   ]
  },
  {
   "cell_type": "markdown",
   "id": "a205ade5",
   "metadata": {},
   "source": [
    "The main problems of this algorithm application to our problem were:\n",
    "* general genetic algorithm assumes binary combination of chromosome in gen, but as we have $6$ types of the air defense systems, then gen should contains combination of $7$ digits ($6$ types of the air defense system and $0$, which mean that any system is deployed into the cell).\n",
    "* algorithm has no restrictions for the number of values in the gen, but we have a static number of the air defense systems.\n",
    "\n",
    "So, all of these issues were resolved, and I managed to modify the algorithm to have an ability to use it for solving our problem."
   ]
  },
  {
   "cell_type": "markdown",
   "id": "7689cdd2",
   "metadata": {},
   "source": [
    "Now, move on to the implementation:"
   ]
  },
  {
   "cell_type": "markdown",
   "id": "e260e114",
   "metadata": {},
   "source": [
    "The following method will be used for unification of the air defense system in the gen combination given its name:"
   ]
  },
  {
   "cell_type": "code",
   "execution_count": 3,
   "id": "2bc2f553",
   "metadata": {},
   "outputs": [],
   "source": [
    "def get_ppo_index(name):\n",
    "    '''takes an index of the air defense system, based on its name'''\n",
    "    return ppo_names.index(name) + 1"
   ]
  },
  {
   "cell_type": "markdown",
   "id": "382be130",
   "metadata": {},
   "source": [
    "The following method is used for the parent individual selection from the generated population:"
   ]
  },
  {
   "cell_type": "code",
   "execution_count": 4,
   "id": "ddf369c4",
   "metadata": {},
   "outputs": [],
   "source": [
    "def selection(population, rates, k=3):\n",
    "    '''selects the \"best\" individuals based 3 randomly taken ones from the population'''\n",
    "    # random individual selection from the population\n",
    "    selection_index = randint(len(population))\n",
    "    \n",
    "    for index in randint(0, len(population), k-1):\n",
    "        \n",
    "        # take better one\n",
    "        if rates[index] < rates[selection_index]:\n",
    "            selection_index = index\n",
    "            \n",
    "    return population[selection_index]"
   ]
  },
  {
   "cell_type": "markdown",
   "id": "cdf8b6df",
   "metadata": {},
   "source": [
    "Next method is used for crossover process:\n",
    "\n",
    "Given two parent individuals and cross rate (probability to do crossover), we combine the parts of parents combinations per each system class and (important!) the number of each system in the combination is saved. "
   ]
  },
  {
   "cell_type": "code",
   "execution_count": 5,
   "id": "d20453eb",
   "metadata": {},
   "outputs": [],
   "source": [
    "def crossover(parent1, parent2, cross_rate, class_count):\n",
    "    '''generates children individuals by the recombination of parents gens'''\n",
    "    children1, children2 = parent1.copy(), parent2.copy()\n",
    "    \n",
    "    # determine if do the crossover\n",
    "    if rand() < cross_rate:\n",
    "        \n",
    "        # do the crossover per each system type\n",
    "        for ppo_class in range(1, class_count + 1):\n",
    "            \n",
    "            # Identify the positions of 1s in each parent\n",
    "            class_parent1 = [i for i in range(len(parent1)) if parent1[i] == ppo_class]\n",
    "            class_parent2 = [i for i in range(len(parent2)) if parent2[i] == ppo_class]\n",
    "            \n",
    "            # Randomly pair the 1s positions from both parents and swap\n",
    "            np.random.shuffle(class_parent2)\n",
    "            \n",
    "            for pos1, pos2 in zip(class_parent1, class_parent2):\n",
    "                children1[pos1], children2[pos2] = children2[pos2], children1[pos1]\n",
    "                \n",
    "    return [children1, children2]"
   ]
  },
  {
   "cell_type": "markdown",
   "id": "9daffdf9",
   "metadata": {},
   "source": [
    "Mutation process is done by the following procedure:"
   ]
  },
  {
   "cell_type": "code",
   "execution_count": 6,
   "id": "60d90324",
   "metadata": {},
   "outputs": [],
   "source": [
    "def mutation(combination, mutation_rate):\n",
    "    '''performs the mutation between values inside one individual'''\n",
    "    \n",
    "    for index in range(len(combination)):\n",
    "        \n",
    "        # check if do the mutation\n",
    "        if rand() < mutation_rate:\n",
    "            \n",
    "            # determine index of the chromosome to mutate with\n",
    "            swap_index = randint(0, len(combination) - 1)\n",
    "            \n",
    "            # do the mutation (swap)\n",
    "            combination[index], combination[swap_index] = combination[swap_index], combination[index]"
   ]
  },
  {
   "cell_type": "markdown",
   "id": "4308813d",
   "metadata": {},
   "source": [
    "This method generates the random combination of chromosome in a gen, given initial set of the air defense systems:"
   ]
  },
  {
   "cell_type": "code",
   "execution_count": 7,
   "id": "0c6931d8",
   "metadata": {},
   "outputs": [],
   "source": [
    "def generate_combination(combination_length, ppo_set):\n",
    "    '''generates chromosomes with the count according to the initialized air defense systems set and make a random combination of this'''\n",
    "    individual = []\n",
    "    \n",
    "    for name in ppo_set.keys():\n",
    "        # add air defense systems of the specific type with specified count\n",
    "        individual += [get_ppo_index(name)] * ppo_set[name]\n",
    "    \n",
    "    # add indexes for empty cells (with no system inside)\n",
    "    individual += [0] * (combination_length - len(individual))\n",
    "    \n",
    "    # make random combination\n",
    "    np.random.shuffle(individual)\n",
    "    \n",
    "    return individual"
   ]
  },
  {
   "cell_type": "markdown",
   "id": "048156b1",
   "metadata": {},
   "source": [
    "The final execution of genetic optimization algorithm is behind:"
   ]
  },
  {
   "cell_type": "code",
   "execution_count": 8,
   "id": "36dae575",
   "metadata": {},
   "outputs": [],
   "source": [
    "def genetic_algorithm(fitness, init_ppo_set, systems, cells, shape, combination_length, \\\n",
    "                      iteration_num, population_num, cross_rate, mutation_rate):\n",
    "    '''executes genetic algorithm'''\n",
    "    # initial population with random combination\n",
    "    population = np.array([generate_combination(combination_length, init_ppo_set) for _ in range(population_num)])\n",
    "    \n",
    "    # initially set the first individual in the population as the best \n",
    "    best_individual, best_fitness = population[0], fitness(population[0], systems, cells, shape)\n",
    "    \n",
    "    # execute algorithm 'iteration_num' times\n",
    "    for gen in tqdm.tqdm(range(iteration_num)):\n",
    "        \n",
    "        # calculate fitness values for all candidates in the population\n",
    "        scores = [fitness(c, systems, cells, shape) for c in population]\n",
    "        \n",
    "        for i in range(population_num):\n",
    "            \n",
    "            # check for new best solution\n",
    "            if scores[i] < best_fitness:\n",
    "                best_individual, best_fitness = population[i], scores[i]\n",
    "                \n",
    "            # select parent individuals\n",
    "            selected = [selection(population, scores) for _ in range(population_num)]\n",
    "            \n",
    "            # create children generation\n",
    "            children = list()\n",
    "            \n",
    "            for i in range(0, population_num, 2):\n",
    "                \n",
    "                # get selected parents in pairs\n",
    "                parent1, parent2 = selected[i], selected[i+1]\n",
    "                \n",
    "                # crossover and mutation\n",
    "                for child in crossover(parent1, parent2, cross_rate, len(init_ppo_set)):\n",
    "                    \n",
    "                    # mutation\n",
    "                    mutation(child, mutation_rate)\n",
    "                    \n",
    "                    # store the child\n",
    "                    children.append(child)\n",
    "                    \n",
    "            # replace population with children\n",
    "            population = children\n",
    "            \n",
    "    return [best_individual, best_fitness]"
   ]
  }
 ],
 "metadata": {
  "kernelspec": {
   "display_name": "Python 3 (ipykernel)",
   "language": "python",
   "name": "python3"
  },
  "language_info": {
   "codemirror_mode": {
    "name": "ipython",
    "version": 3
   },
   "file_extension": ".py",
   "mimetype": "text/x-python",
   "name": "python",
   "nbconvert_exporter": "python",
   "pygments_lexer": "ipython3",
   "version": "3.11.5"
  }
 },
 "nbformat": 4,
 "nbformat_minor": 5
}
